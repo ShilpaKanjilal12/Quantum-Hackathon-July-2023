{
 "cells": [
  {
   "cell_type": "markdown",
   "id": "618bfd68",
   "metadata": {
    "tags": []
   },
   "source": [
    "# Quantum Key Distribution\n",
    "\n",
    "Shilpa Kanjilal"
   ]
  },
  {
   "cell_type": "markdown",
   "id": "2dc25b81",
   "metadata": {},
   "source": [
    "### Introduction\n",
    "\n",
    "Quantum Key Distribution (QKD) is a secure method of establishing cryptographic keys between two parties, such as Alice and Bob, who want to communicate securely. Unlike classical cryptographic methods, QKD uses the principles of quantum mechanics to generate and distribute encryption keys. The most widely used QKD protocol is the BB84, which was proposed by Charles Bennett and Gilles Brassard in 1984.\n",
    "\n",
    "\n",
    "### About this project:\n",
    "\n",
    "My primary objective was to implement a secure quantum key distribution (QKD) method using Qiskit dm_simulator. A BB84 QKD protocol is  utilize for generating and distributing keys securely, with a focus on maximum randomness and secrecy to resist potential eavesdropping attacks.\n",
    "\n",
    "#### High-level outline:\n",
    "\n",
    "1. Quantum State Preparation by Alice and Transmission from Alice to Bob:\n",
    "- Generate a sequence of random bits to represent the secret key.\n",
    "- Prepare quantum qubits corresponding to the random bit values in random bases (X or Z).\n",
    "- Send the prepared qubits to Bob over a communication channel.\n",
    "\n",
    "2. Bob's measurement \n",
    "- Bob randomly chooses to measure each qubit in either the X-basis or the Z-basis.\n",
    "\n",
    "3. Basis Announcement and Key Sifting:\n",
    "- Alice and Bob publicly reveal the bases they used for each qubit over a classical channel.\n",
    "- They keep the bits for which their bases match, forming a sifted key.\n",
    "- The sifted key contains bits that they measured in the same basis.\n",
    "\n",
    "4. Privacy Amplification (Classical Post-processing):\n",
    "- Alice and Bob perform Privacy Amplification on the sifted key to obtain a secured secret key. Here I have used the SHA-256 (Secure Hash Algorithm 256-bit) which is a widely used cryptographic hash function.\n",
    "\n",
    "5. Secure Communication (For Demonstrating the use of the final key):\n",
    "- The final secret key can be used for encryption to enable secure communication between Alice and Bob.\n",
    "\n"
   ]
  },
  {
   "cell_type": "markdown",
   "id": "86e4c9e9",
   "metadata": {},
   "source": [
    "# Code with Detailed Explanation"
   ]
  },
  {
   "cell_type": "markdown",
   "id": "2928d868",
   "metadata": {},
   "source": [
    "##### Import the required libraries for the QKD process"
   ]
  },
  {
   "cell_type": "code",
   "execution_count": 1,
   "id": "3d0fdb63",
   "metadata": {},
   "outputs": [],
   "source": [
    "import random\n",
    "import numpy as np\n",
    "from qiskit import BasicAer, QuantumCircuit,execute\n",
    "from qiskit.visualization import circuit_drawer\n",
    "import hashlib"
   ]
  },
  {
   "cell_type": "markdown",
   "id": "51f3b174",
   "metadata": {},
   "source": [
    "### Step 1: Quantum State Preparation by Alice\n",
    "\n",
    "#### Generate a sequence of random bits to represent the secret key and a sequence of random bases"
   ]
  },
  {
   "cell_type": "code",
   "execution_count": 2,
   "id": "c5a27d29",
   "metadata": {},
   "outputs": [
    {
     "name": "stdout",
     "output_type": "stream",
     "text": [
      "Alice's bits: 0100010111101110\n",
      "Alice's random basis: ZXZZZXXZXZZZZZXZ\n"
     ]
    }
   ],
   "source": [
    "def generate_random_bits(length): # Generate a sequence of random bits to represent the secret key\n",
    "    return ''.join(random.choice(['0', '1']) for _ in range(length))\n",
    "\n",
    "def generate_random_basis(length): # Generate a sequence of random bases\n",
    "    return ''.join(random.choice(['X', 'Z']) for _ in range(length))\n",
    "\n",
    "bit_length = 16  # Number of bits/qubits\n",
    "\n",
    "a_bits = generate_random_bits(bit_length)\n",
    "print(\"Alice's bits:\", a_bits)\n",
    "\n",
    "a_basis = generate_random_basis(bit_length)\n",
    "print(\"Alice's random basis:\", a_basis)"
   ]
  },
  {
   "cell_type": "markdown",
   "id": "de18d751",
   "metadata": {},
   "source": [
    "#### Prepare quantum qubits corresponding to the random bit values in random bases (X or Z)."
   ]
  },
  {
   "cell_type": "code",
   "execution_count": 3,
   "id": "a72f5058",
   "metadata": {},
   "outputs": [],
   "source": [
    "def prepare_qubits(bits, bases): # Prepare quantum qubits corresponding to the random bit values in random bases (X or Z)\n",
    "    qubits = []\n",
    "    for bit, basis in zip(bits, bases):\n",
    "        qc = QuantumCircuit(1, 1)\n",
    "        if bit == '1':\n",
    "            qc.x(0)\n",
    "        if basis == 'X':\n",
    "            qc.h(0)\n",
    "        qubits.append(qc) # append the qubit to the list of qubits\n",
    "    return qubits\n",
    "\n",
    "qubits = prepare_qubits(a_bits, a_basis) # List of QuantumCircuit objects\n"
   ]
  },
  {
   "cell_type": "markdown",
   "id": "840600b2",
   "metadata": {},
   "source": [
    "#### Visualising the first 4 qubits"
   ]
  },
  {
   "cell_type": "code",
   "execution_count": 4,
   "id": "d71a6eb6",
   "metadata": {},
   "outputs": [
    {
     "data": {
      "image/png": "[encoded data removed]",
      "text/plain": [
       "<Figure size 143.647x200.667 with 1 Axes>"
      ]
     },
     "metadata": {},
     "output_type": "display_data"
    }
   ],
   "source": [
    "display(qubits[0].draw(output=\"mpl\")) # Visualise the first qubit"
   ]
  },
  {
   "cell_type": "code",
   "execution_count": 5,
   "id": "ea5332c7",
   "metadata": {},
   "outputs": [
    {
     "data": {
      "image/png": "[encoded data removed]",
      "text/plain": [
       "<Figure size 269.064x200.667 with 1 Axes>"
      ]
     },
     "metadata": {},
     "output_type": "display_data"
    }
   ],
   "source": [
    "display(qubits[1].draw(output=\"mpl\")) # Visualise the second qubit"
   ]
  },
  {
   "cell_type": "code",
   "execution_count": 6,
   "id": "f910c238",
   "metadata": {},
   "outputs": [
    {
     "data": {
      "image/png": "[encoded data removed]",
      "text/plain": [
       "<Figure size 143.647x200.667 with 1 Axes>"
      ]
     },
     "metadata": {},
     "output_type": "display_data"
    }
   ],
   "source": [
    "display(qubits[2].draw(output=\"mpl\")) # Visualise the third qubit"
   ]
  },
  {
   "cell_type": "code",
   "execution_count": 7,
   "id": "f3ca48e0",
   "metadata": {},
   "outputs": [
    {
     "data": {
      "image/png": "[encoded data removed]",
      "text/plain": [
       "<Figure size 143.647x200.667 with 1 Axes>"
      ]
     },
     "metadata": {},
     "output_type": "display_data"
    }
   ],
   "source": [
    "display(qubits[3].draw(output=\"mpl\")) # Visualise the fourth qubit"
   ]
  },
  {
   "cell_type": "markdown",
   "id": "72d66d37",
   "metadata": {},
   "source": [
    "### Step 2: Bob's measurement \n",
    "\n",
    "#### Bob randomly chooses to measure each qubit in either the X-basis or the Z-basis."
   ]
  },
  {
   "cell_type": "code",
   "execution_count": 8,
   "id": "cb9c214d",
   "metadata": {},
   "outputs": [
    {
     "name": "stdout",
     "output_type": "stream",
     "text": [
      "Bob's random basis: ZXZXZZZZXXZXZZZZ\n",
      "Bob's measurements: 0101011111111110\n"
     ]
    }
   ],
   "source": [
    "def bob_measure(qubits, bases): # Bob measures each qubit in randomly choosen X-basis or Z-basis.\n",
    "    backend = BasicAer.get_backend('dm_simulator') # get the backend\n",
    "    outcomes=\"\"\n",
    "    noise = {\n",
    "    \"thermal_factor\": 0.,\n",
    "    \"decoherence_factor\": .9,\n",
    "    \"depolarization_factor\": 0.99,\n",
    "    \"bell_depolarization_factor\": 0.99,\n",
    "    \"decay_factor\": 0.99,\n",
    "    \"rotation_error\": {'rx':[1., 0.], 'ry':[1., 0.], 'rz': [1., 0.]},\n",
    "    \"tsp_model_error\": [1., 0.],\n",
    "    \"plot\": False\n",
    "} # noise parameters are added\n",
    "    for i, qubit in enumerate(qubits):\n",
    "        if bases[i] == 'X':\n",
    "            qubit.h(0)\n",
    "            \n",
    "        qubit.measure(0, 0)\n",
    "        result  = execute(qubit,backend,**noise).result()\n",
    "        rho = result.results[0].data.densitymatrix # the density matrix\n",
    "        probabilities = np.diag(rho)  # Probabilities for each state\n",
    "        outcome = np.argmax(probabilities) # final outcome after operating on the qubit\n",
    "        outcomes = outcomes + str(outcome) # adding it to the list of outcomes\n",
    "    return outcomes\n",
    "\n",
    "\n",
    "b_basis = generate_random_basis(bit_length)\n",
    "print(\"Bob's random basis:\", b_basis)\n",
    "\n",
    "b_measurements = bob_measure(qubits, b_basis)\n",
    "print(\"Bob's measurements:\", b_measurements)"
   ]
  },
  {
   "cell_type": "markdown",
   "id": "010b3a41",
   "metadata": {},
   "source": [
    "### Step 3: Basis Announcement and Key Sifting:\n",
    "\n",
    "Alice and Bob publicly reveal the bases they used for each qubit over a classical channel. Then they start form the sifted key by keeping the bits for which their bases match.\n",
    "\n",
    "#### Forming the Sifted Key"
   ]
  },
  {
   "cell_type": "code",
   "execution_count": 9,
   "id": "3001948b",
   "metadata": {},
   "outputs": [
    {
     "name": "stdout",
     "output_type": "stream",
     "text": [
      "Shared Key: 0100111110\n",
      "Key Length: 10\n"
     ]
    }
   ],
   "source": [
    "def sift_and_generate_key(alice_bits, bob_measurements, alice_bases, bob_bases):\n",
    "    sifted_key = []\n",
    "    for i in range(len(alice_bits)):\n",
    "        if alice_bases[i] == bob_bases[i]: #they keep the qubits for which their bases match\n",
    "            sifted_key.append(alice_bits[i])\n",
    "    return ''.join(sifted_key)\n",
    "\n",
    "sifted_key = sift_and_generate_key(a_bits, b_measurements, a_basis, b_basis)\n",
    "print(\"Shared Key:\", sifted_key)\n",
    "print(\"Key Length:\", len(sifted_key))"
   ]
  },
  {
   "cell_type": "markdown",
   "id": "5809ec72",
   "metadata": {},
   "source": [
    "### Step 4 : Privacy Amplification (Classical Post-processing)\n",
    "\n",
    "#### Alice and Bob perform Privacy Amplification on the sifted key to obtain a secured secret key. \n",
    "Here I have used the SHA-256 (Secure Hash Algorithm 256-bit) which is a widely used cryptographic hash function that produces a 256-bit (32-byte) hash value. If we are using hexadecimal notation then digit codes represent 4 bits. In order to represent 256, we need 256/4 = 64 bits. So the final key length is always 64.\n",
    "\n",
    "This step is not a direct part of the QKD protocol but its done to enhance the security of the sifted/shared key."
   ]
  },
  {
   "cell_type": "code",
   "execution_count": 10,
   "id": "ff66e5ce",
   "metadata": {},
   "outputs": [
    {
     "name": "stdout",
     "output_type": "stream",
     "text": [
      "Initial Shared Key: 0100111110\n",
      "Final Shared Key: 3302885a66806a3c76115b4ffe0c9c60d36555daaf2c6d8f372551706c5cc67b\n",
      "Final Key Length: 64\n"
     ]
    }
   ],
   "source": [
    "def privacy_amplification(shared_key): # encrypt the sifted key using SHA-256\n",
    "    sha256_hash = hashlib.sha256(shared_key.encode()).hexdigest()\n",
    "    return sha256_hash\n",
    "\n",
    "final_key = privacy_amplification(sifted_key) #obtain the final encrypted key\n",
    "print(\"Initial Shared Key:\", sifted_key)\n",
    "print(\"Final Shared Key:\", final_key)\n",
    "print(\"Final Key Length:\", len(final_key))"
   ]
  },
  {
   "cell_type": "markdown",
   "id": "431653b1",
   "metadata": {},
   "source": [
    "### Step 5: Secure Communication\n",
    "\n",
    "#### The final secret key can be used for encryption to enable secure communication between Alice and Bob.\n",
    "\n",
    "The message is encrypted and decrypted using the using the AES (Advanced Encryption Standard) algorithm in CBC (Cipher Block Chaining) mode which is a widely used symmetric encryption algorithm.\n",
    "\n",
    "This step is not a part of the QKD protocol but its done to demonstrate the use of the final key.\n",
    "\n",
    "#### Importing the required libraries"
   ]
  },
  {
   "cell_type": "code",
   "execution_count": 11,
   "id": "df2349b4",
   "metadata": {},
   "outputs": [],
   "source": [
    "from cryptography.hazmat.primitives import padding\n",
    "from cryptography.hazmat.primitives.ciphers import Cipher, algorithms, modes\n",
    "from cryptography.hazmat.backends import default_backend\n",
    "import os"
   ]
  },
  {
   "cell_type": "markdown",
   "id": "228f5433",
   "metadata": {},
   "source": [
    "####  Padding and Unpadding the Data\n",
    "\n",
    "Padding is necessary for certain block cipher modes, including CBC, where the plaintext must be a multiple of the block size (16 bytes for AES). Here I have used PKCS7 padding."
   ]
  },
  {
   "cell_type": "code",
   "execution_count": 12,
   "id": "f3dda777",
   "metadata": {},
   "outputs": [],
   "source": [
    "def pad_data(data):\n",
    "    # Pad the data to be a multiple of AES block size\n",
    "    padder = padding.PKCS7(algorithms.AES.block_size).padder()\n",
    "    padded_data = padder.update(data) + padder.finalize()\n",
    "    return padded_data\n",
    "\n",
    "def unpad_data(padded_data):\n",
    "    # Unpad the padded data after decryption\n",
    "    unpadder = padding.PKCS7(algorithms.AES.block_size).unpadder()\n",
    "    data = unpadder.update(padded_data) + unpadder.finalize()\n",
    "    return data"
   ]
  },
  {
   "cell_type": "markdown",
   "id": "d59999e0",
   "metadata": {},
   "source": [
    "#### The final secret key can be used for encryption to enable secure communication between Alice and Bob."
   ]
  },
  {
   "cell_type": "code",
   "execution_count": 13,
   "id": "0242f605",
   "metadata": {},
   "outputs": [
    {
     "name": "stdout",
     "output_type": "stream",
     "text": [
      "Encrypted Message: b'\\x11\\xd5\\x85\\xe2P\\xcf\\xf0d,\\xfe(\\x01\\xc1[\\x1ajG!\\x13\\xef \"+c\\xacT\\x81\\xcc\\xc4\\xe1-u\\x94\\x8c\\xdf\\x18\\nV7\\xbaN\\xf9\\x99w\\x12 \"\\xaa'\n",
      "Decrypted Message: Hello Bob! I made pizza :-)\n"
     ]
    }
   ],
   "source": [
    "def encrypt_message(key, message): # encrypts the message using AES algorithm in CBC mode\n",
    "    backend = default_backend()\n",
    "\n",
    "    # Pad the message to be a multiple of AES block size\n",
    "    padded_message = pad_data(message.encode())\n",
    "\n",
    "    # Generate a random initialization vector (IV) of 16 bytes (128 bits)\n",
    "    iv = os.urandom(16)\n",
    "\n",
    "    # Create an AES cipher object in CBC mode with the shared key and IV\n",
    "    cipher = Cipher(algorithms.AES(key), modes.CBC(iv), backend=backend)\n",
    "\n",
    "    # Encrypt the padded message\n",
    "    encryptor = cipher.encryptor()\n",
    "    ciphertext = encryptor.update(padded_message) + encryptor.finalize()\n",
    "\n",
    "    return iv + ciphertext\n",
    "\n",
    "def decrypt_message(key, encrypted_message): # decrypts the message using AES algorithm in CBC mode\n",
    "    backend = default_backend()\n",
    "\n",
    "    # Extract the IV and ciphertext from the encrypted message\n",
    "    iv = encrypted_message[:16]\n",
    "    ciphertext = encrypted_message[16:]\n",
    "\n",
    "    # Create an AES cipher object in CBC mode with the shared key and IV\n",
    "    cipher = Cipher(algorithms.AES(key), modes.CBC(iv), backend=backend)\n",
    "\n",
    "    # Decrypt the ciphertext\n",
    "    decryptor = cipher.decryptor()\n",
    "    decrypted_message = decryptor.update(ciphertext) + decryptor.finalize()\n",
    "\n",
    "    # Unpad the decrypted message\n",
    "    unpadded_message = unpad_data(decrypted_message)\n",
    "\n",
    "    return unpadded_message.decode()\n",
    "\n",
    "# Final shared secret key obtained from QKD\n",
    "final_shared_key = bytes.fromhex(final_key)\n",
    "\n",
    "# Alice encrypting a message using the final shared key\n",
    "message_to_bob = \"Hello Bob! I made pizza :-)\"\n",
    "encrypted_message = encrypt_message(final_shared_key, message_to_bob)\n",
    "print(\"Encrypted Message:\", encrypted_message)\n",
    "\n",
    "# Bob decrypting the message using the final shared key\n",
    "decrypted_message = decrypt_message(final_shared_key, encrypted_message)\n",
    "print(\"Decrypted Message:\", decrypted_message)\n"
   ]
  }
 ],
 "metadata": {
  "kernelspec": {
   "display_name": "Python 3 (ipykernel)",
   "language": "python",
   "name": "python3"
  },
  "language_info": {
   "codemirror_mode": {
    "name": "ipython",
    "version": 3
   },
   "file_extension": ".py",
   "mimetype": "text/x-python",
   "name": "python",
   "nbconvert_exporter": "python",
   "pygments_lexer": "ipython3",
   "version": "3.9.13"
  }
 },
 "nbformat": 4,
 "nbformat_minor": 5
}
